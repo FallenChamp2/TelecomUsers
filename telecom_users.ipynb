{
 "cells": [
  {
   "cell_type": "code",
   "execution_count": 5,
   "metadata": {},
   "outputs": [
    {
     "data": {
      "text/html": [
       "<div>\n",
       "<style scoped>\n",
       "    .dataframe tbody tr th:only-of-type {\n",
       "        vertical-align: middle;\n",
       "    }\n",
       "\n",
       "    .dataframe tbody tr th {\n",
       "        vertical-align: top;\n",
       "    }\n",
       "\n",
       "    .dataframe thead th {\n",
       "        text-align: right;\n",
       "    }\n",
       "</style>\n",
       "<table border=\"1\" class=\"dataframe\">\n",
       "  <thead>\n",
       "    <tr style=\"text-align: right;\">\n",
       "      <th></th>\n",
       "      <th>Unnamed: 0</th>\n",
       "      <th>customerID</th>\n",
       "      <th>gender</th>\n",
       "      <th>SeniorCitizen</th>\n",
       "      <th>Partner</th>\n",
       "      <th>Dependents</th>\n",
       "      <th>tenure</th>\n",
       "      <th>PhoneService</th>\n",
       "      <th>MultipleLines</th>\n",
       "      <th>InternetService</th>\n",
       "      <th>...</th>\n",
       "      <th>DeviceProtection</th>\n",
       "      <th>TechSupport</th>\n",
       "      <th>StreamingTV</th>\n",
       "      <th>StreamingMovies</th>\n",
       "      <th>Contract</th>\n",
       "      <th>PaperlessBilling</th>\n",
       "      <th>PaymentMethod</th>\n",
       "      <th>MonthlyCharges</th>\n",
       "      <th>TotalCharges</th>\n",
       "      <th>Churn</th>\n",
       "    </tr>\n",
       "  </thead>\n",
       "  <tbody>\n",
       "    <tr>\n",
       "      <th>0</th>\n",
       "      <td>1869</td>\n",
       "      <td>7010-BRBUU</td>\n",
       "      <td>Male</td>\n",
       "      <td>0</td>\n",
       "      <td>Yes</td>\n",
       "      <td>Yes</td>\n",
       "      <td>72</td>\n",
       "      <td>Yes</td>\n",
       "      <td>Yes</td>\n",
       "      <td>No</td>\n",
       "      <td>...</td>\n",
       "      <td>No internet service</td>\n",
       "      <td>No internet service</td>\n",
       "      <td>No internet service</td>\n",
       "      <td>No internet service</td>\n",
       "      <td>Two year</td>\n",
       "      <td>No</td>\n",
       "      <td>Credit card (automatic)</td>\n",
       "      <td>24.10</td>\n",
       "      <td>1734.65</td>\n",
       "      <td>No</td>\n",
       "    </tr>\n",
       "    <tr>\n",
       "      <th>1</th>\n",
       "      <td>4528</td>\n",
       "      <td>9688-YGXVR</td>\n",
       "      <td>Female</td>\n",
       "      <td>0</td>\n",
       "      <td>No</td>\n",
       "      <td>No</td>\n",
       "      <td>44</td>\n",
       "      <td>Yes</td>\n",
       "      <td>No</td>\n",
       "      <td>Fiber optic</td>\n",
       "      <td>...</td>\n",
       "      <td>Yes</td>\n",
       "      <td>No</td>\n",
       "      <td>Yes</td>\n",
       "      <td>No</td>\n",
       "      <td>Month-to-month</td>\n",
       "      <td>Yes</td>\n",
       "      <td>Credit card (automatic)</td>\n",
       "      <td>88.15</td>\n",
       "      <td>3973.2</td>\n",
       "      <td>No</td>\n",
       "    </tr>\n",
       "    <tr>\n",
       "      <th>2</th>\n",
       "      <td>6344</td>\n",
       "      <td>9286-DOJGF</td>\n",
       "      <td>Female</td>\n",
       "      <td>1</td>\n",
       "      <td>Yes</td>\n",
       "      <td>No</td>\n",
       "      <td>38</td>\n",
       "      <td>Yes</td>\n",
       "      <td>Yes</td>\n",
       "      <td>Fiber optic</td>\n",
       "      <td>...</td>\n",
       "      <td>No</td>\n",
       "      <td>No</td>\n",
       "      <td>No</td>\n",
       "      <td>No</td>\n",
       "      <td>Month-to-month</td>\n",
       "      <td>Yes</td>\n",
       "      <td>Bank transfer (automatic)</td>\n",
       "      <td>74.95</td>\n",
       "      <td>2869.85</td>\n",
       "      <td>Yes</td>\n",
       "    </tr>\n",
       "    <tr>\n",
       "      <th>3</th>\n",
       "      <td>6739</td>\n",
       "      <td>6994-KERXL</td>\n",
       "      <td>Male</td>\n",
       "      <td>0</td>\n",
       "      <td>No</td>\n",
       "      <td>No</td>\n",
       "      <td>4</td>\n",
       "      <td>Yes</td>\n",
       "      <td>No</td>\n",
       "      <td>DSL</td>\n",
       "      <td>...</td>\n",
       "      <td>No</td>\n",
       "      <td>No</td>\n",
       "      <td>No</td>\n",
       "      <td>Yes</td>\n",
       "      <td>Month-to-month</td>\n",
       "      <td>Yes</td>\n",
       "      <td>Electronic check</td>\n",
       "      <td>55.90</td>\n",
       "      <td>238.5</td>\n",
       "      <td>No</td>\n",
       "    </tr>\n",
       "    <tr>\n",
       "      <th>4</th>\n",
       "      <td>432</td>\n",
       "      <td>2181-UAESM</td>\n",
       "      <td>Male</td>\n",
       "      <td>0</td>\n",
       "      <td>No</td>\n",
       "      <td>No</td>\n",
       "      <td>2</td>\n",
       "      <td>Yes</td>\n",
       "      <td>No</td>\n",
       "      <td>DSL</td>\n",
       "      <td>...</td>\n",
       "      <td>Yes</td>\n",
       "      <td>No</td>\n",
       "      <td>No</td>\n",
       "      <td>No</td>\n",
       "      <td>Month-to-month</td>\n",
       "      <td>No</td>\n",
       "      <td>Electronic check</td>\n",
       "      <td>53.45</td>\n",
       "      <td>119.5</td>\n",
       "      <td>No</td>\n",
       "    </tr>\n",
       "  </tbody>\n",
       "</table>\n",
       "<p>5 rows × 22 columns</p>\n",
       "</div>"
      ],
      "text/plain": [
       "   Unnamed: 0  customerID  gender  SeniorCitizen Partner Dependents  tenure  \\\n",
       "0        1869  7010-BRBUU    Male              0     Yes        Yes      72   \n",
       "1        4528  9688-YGXVR  Female              0      No         No      44   \n",
       "2        6344  9286-DOJGF  Female              1     Yes         No      38   \n",
       "3        6739  6994-KERXL    Male              0      No         No       4   \n",
       "4         432  2181-UAESM    Male              0      No         No       2   \n",
       "\n",
       "  PhoneService MultipleLines InternetService  ...     DeviceProtection  \\\n",
       "0          Yes           Yes              No  ...  No internet service   \n",
       "1          Yes            No     Fiber optic  ...                  Yes   \n",
       "2          Yes           Yes     Fiber optic  ...                   No   \n",
       "3          Yes            No             DSL  ...                   No   \n",
       "4          Yes            No             DSL  ...                  Yes   \n",
       "\n",
       "           TechSupport          StreamingTV      StreamingMovies  \\\n",
       "0  No internet service  No internet service  No internet service   \n",
       "1                   No                  Yes                   No   \n",
       "2                   No                   No                   No   \n",
       "3                   No                   No                  Yes   \n",
       "4                   No                   No                   No   \n",
       "\n",
       "         Contract PaperlessBilling              PaymentMethod MonthlyCharges  \\\n",
       "0        Two year               No    Credit card (automatic)          24.10   \n",
       "1  Month-to-month              Yes    Credit card (automatic)          88.15   \n",
       "2  Month-to-month              Yes  Bank transfer (automatic)          74.95   \n",
       "3  Month-to-month              Yes           Electronic check          55.90   \n",
       "4  Month-to-month               No           Electronic check          53.45   \n",
       "\n",
       "  TotalCharges  Churn  \n",
       "0      1734.65     No  \n",
       "1       3973.2     No  \n",
       "2      2869.85    Yes  \n",
       "3        238.5     No  \n",
       "4        119.5     No  \n",
       "\n",
       "[5 rows x 22 columns]"
      ]
     },
     "execution_count": 5,
     "metadata": {},
     "output_type": "execute_result"
    }
   ],
   "source": [
    "import pandas as pd\n",
    "import numpy as np\n",
    "\n",
    "telecom_users = pd.read_csv('telecom_users.csv')\n",
    "telecom_users.head()"
   ]
  },
  {
   "cell_type": "code",
   "execution_count": 6,
   "metadata": {},
   "outputs": [
    {
     "data": {
      "text/plain": [
       "(5986, 22)"
      ]
     },
     "execution_count": 6,
     "metadata": {},
     "output_type": "execute_result"
    }
   ],
   "source": [
    "telecom_users.shape"
   ]
  },
  {
   "cell_type": "code",
   "execution_count": 7,
   "metadata": {},
   "outputs": [
    {
     "data": {
      "text/plain": [
       "(5986, 22)"
      ]
     },
     "execution_count": 7,
     "metadata": {},
     "output_type": "execute_result"
    }
   ],
   "source": [
    "telecom_users.dropna(inplace = True)\n",
    "telecom_users.shape"
   ]
  },
  {
   "cell_type": "code",
   "execution_count": 8,
   "metadata": {},
   "outputs": [
    {
     "data": {
      "text/plain": [
       "(5986, 22)"
      ]
     },
     "execution_count": 8,
     "metadata": {},
     "output_type": "execute_result"
    }
   ],
   "source": [
    "telecom_users.shape"
   ]
  },
  {
   "cell_type": "code",
   "execution_count": 9,
   "metadata": {},
   "outputs": [],
   "source": [
    "telecom_users['Unnamed: 0'] = telecom_users['Unnamed: 0'].astype(float) "
   ]
  },
  {
   "cell_type": "code",
   "execution_count": 10,
   "metadata": {},
   "outputs": [],
   "source": [
    "telecom_users['SeniorCitizen'] = telecom_users['SeniorCitizen'].astype(float)"
   ]
  },
  {
   "cell_type": "code",
   "execution_count": 11,
   "metadata": {},
   "outputs": [],
   "source": [
    "from sklearn.preprocessing import StandardScaler, MinMaxScaler\n",
    "scaler = MinMaxScaler()\n",
    "Tenure = telecom_users['tenure'].values\n",
    "Tenure = Tenure.reshape(-1, 1)\n",
    "telecom_users['tenure'] = scaler.fit_transform(Tenure)"
   ]
  },
  {
   "cell_type": "code",
   "execution_count": 12,
   "metadata": {},
   "outputs": [
    {
     "name": "stdout",
     "output_type": "stream",
     "text": [
      "[24.1  88.15 74.95 ... 21.15 99.45 19.8 ]\n"
     ]
    }
   ],
   "source": [
    "MonC = telecom_users['MonthlyCharges'].values\n",
    "print(MonC)\n",
    "MonC = MonC.reshape(-1, 1)\n",
    "telecom_users['MonthlyCharges'] = scaler.fit_transform(MonC)"
   ]
  },
  {
   "cell_type": "code",
   "execution_count": 13,
   "metadata": {},
   "outputs": [
    {
     "name": "stdout",
     "output_type": "stream",
     "text": [
      "Unnamed: 0          float64\n",
      "customerID           object\n",
      "gender               object\n",
      "SeniorCitizen       float64\n",
      "Partner              object\n",
      "Dependents           object\n",
      "tenure              float64\n",
      "PhoneService         object\n",
      "MultipleLines        object\n",
      "InternetService      object\n",
      "OnlineSecurity       object\n",
      "OnlineBackup         object\n",
      "DeviceProtection     object\n",
      "TechSupport          object\n",
      "StreamingTV          object\n",
      "StreamingMovies      object\n",
      "Contract             object\n",
      "PaperlessBilling     object\n",
      "PaymentMethod        object\n",
      "MonthlyCharges      float64\n",
      "TotalCharges        float64\n",
      "Churn                object\n",
      "dtype: object\n"
     ]
    }
   ],
   "source": [
    "df = pd.DataFrame(telecom_users)\n",
    "df['TotalCharges'] = pd.to_numeric(df['TotalCharges'], errors = 'coerce')\n",
    "print(df.dtypes)"
   ]
  },
  {
   "cell_type": "code",
   "execution_count": 14,
   "metadata": {},
   "outputs": [
    {
     "data": {
      "text/plain": [
       "0       0.197998\n",
       "1       0.456312\n",
       "2       0.328993\n",
       "3       0.025352\n",
       "4       0.011620\n",
       "          ...   \n",
       "5981    0.008793\n",
       "5982    0.251500\n",
       "5983    0.033147\n",
       "5984    0.136320\n",
       "5985    0.050600\n",
       "Name: TotalCharges, Length: 5986, dtype: float64"
      ]
     },
     "execution_count": 14,
     "metadata": {},
     "output_type": "execute_result"
    }
   ],
   "source": [
    "TC = telecom_users['TotalCharges'].values\n",
    "TC = TC.reshape(-1, 1)\n",
    "telecom_users['TotalCharges'] = scaler.fit_transform(TC)\n",
    "telecom_users['TotalCharges']"
   ]
  },
  {
   "cell_type": "code",
   "execution_count": 15,
   "metadata": {},
   "outputs": [
    {
     "data": {
      "text/plain": [
       "0       1\n",
       "1       0\n",
       "2       0\n",
       "3       1\n",
       "4       1\n",
       "       ..\n",
       "5981    1\n",
       "5982    0\n",
       "5983    1\n",
       "5984    1\n",
       "5985    1\n",
       "Name: gender, Length: 5986, dtype: object"
      ]
     },
     "execution_count": 15,
     "metadata": {},
     "output_type": "execute_result"
    }
   ],
   "source": [
    "Gender = telecom_users['gender'].values\n",
    "for i in range(0, Gender.size):\n",
    "    if(Gender[i]=='Male'):\n",
    "        Gender[i] = 1\n",
    "    else:\n",
    "        Gender[i] = 0\n",
    "telecom_users['gender'] = Gender\n",
    "telecom_users['gender']"
   ]
  },
  {
   "cell_type": "code",
   "execution_count": 16,
   "metadata": {},
   "outputs": [
    {
     "data": {
      "text/plain": [
       "0       1\n",
       "1       0\n",
       "2       1\n",
       "3       0\n",
       "4       0\n",
       "       ..\n",
       "5981    1\n",
       "5982    1\n",
       "5983    1\n",
       "5984    0\n",
       "5985    0\n",
       "Name: Partner, Length: 5986, dtype: object"
      ]
     },
     "execution_count": 16,
     "metadata": {},
     "output_type": "execute_result"
    }
   ],
   "source": [
    "Partner = telecom_users['Partner'].values\n",
    "\n",
    "for i in range(0, Partner.size):\n",
    "    if(Partner[i] == 'Yes'):\n",
    "        Partner[i] = 1\n",
    "    else:\n",
    "        Partner[i] = 0\n",
    "\n",
    "telecom_users['Partner'] = Partner\n",
    "telecom_users['Partner']"
   ]
  },
  {
   "cell_type": "code",
   "execution_count": 17,
   "metadata": {},
   "outputs": [
    {
     "data": {
      "text/plain": [
       "0       1\n",
       "1       0\n",
       "2       0\n",
       "3       0\n",
       "4       0\n",
       "       ..\n",
       "5981    0\n",
       "5982    1\n",
       "5983    1\n",
       "5984    0\n",
       "5985    0\n",
       "Name: Dependents, Length: 5986, dtype: object"
      ]
     },
     "execution_count": 17,
     "metadata": {},
     "output_type": "execute_result"
    }
   ],
   "source": [
    "Dependents = telecom_users['Dependents'].values\n",
    "for i in range(0, Dependents.size):\n",
    "    if(Dependents[i] == 'Yes'):\n",
    "        Dependents[i] = 1\n",
    "    else:\n",
    "        Dependents[i] = 0\n",
    "\n",
    "telecom_users['Dependents'] = Dependents\n",
    "telecom_users['Dependents']"
   ]
  },
  {
   "cell_type": "code",
   "execution_count": 18,
   "metadata": {},
   "outputs": [
    {
     "data": {
      "text/plain": [
       "0       1\n",
       "1       1\n",
       "2       1\n",
       "3       1\n",
       "4       1\n",
       "       ..\n",
       "5981    1\n",
       "5982    1\n",
       "5983    1\n",
       "5984    1\n",
       "5985    1\n",
       "Name: PhoneService, Length: 5986, dtype: object"
      ]
     },
     "execution_count": 18,
     "metadata": {},
     "output_type": "execute_result"
    }
   ],
   "source": [
    "PhoneService = telecom_users['PhoneService'].values\n",
    "for i in range(0, PhoneService.size):\n",
    "    if(PhoneService[i] == 'Yes'):\n",
    "        PhoneService[i] = 1\n",
    "    else:\n",
    "        PhoneService[i] = 0\n",
    "\n",
    "telecom_users['PhoneService'] = PhoneService\n",
    "telecom_users['PhoneService']"
   ]
  },
  {
   "cell_type": "code",
   "execution_count": 19,
   "metadata": {},
   "outputs": [
    {
     "data": {
      "text/plain": [
       "0       1\n",
       "1       0\n",
       "2       1\n",
       "3       0\n",
       "4       0\n",
       "       ..\n",
       "5981    0\n",
       "5982    1\n",
       "5983    0\n",
       "5984    1\n",
       "5985    0\n",
       "Name: MultipleLines, Length: 5986, dtype: object"
      ]
     },
     "execution_count": 19,
     "metadata": {},
     "output_type": "execute_result"
    }
   ],
   "source": [
    "MultipleLines = telecom_users['MultipleLines'].values\n",
    "for i in range(0, MultipleLines.size):\n",
    "    if(MultipleLines[i] == 'Yes'):\n",
    "        MultipleLines[i] = 1\n",
    "    else:\n",
    "        MultipleLines[i] = 0\n",
    "\n",
    "telecom_users['MultipleLines'] = MultipleLines\n",
    "telecom_users['MultipleLines']"
   ]
  },
  {
   "cell_type": "code",
   "execution_count": 20,
   "metadata": {},
   "outputs": [
    {
     "data": {
      "text/plain": [
       "0       0\n",
       "1       1\n",
       "2       1\n",
       "3       1\n",
       "4       0\n",
       "       ..\n",
       "5981    1\n",
       "5982    1\n",
       "5983    1\n",
       "5984    1\n",
       "5985    0\n",
       "Name: PaperlessBilling, Length: 5986, dtype: object"
      ]
     },
     "execution_count": 20,
     "metadata": {},
     "output_type": "execute_result"
    }
   ],
   "source": [
    "PaperlessBilling = telecom_users['PaperlessBilling'].values\n",
    "for i in range(0, PaperlessBilling.size):\n",
    "    if(PaperlessBilling[i] == 'Yes'):\n",
    "        PaperlessBilling[i] = 1\n",
    "    else:\n",
    "        PaperlessBilling[i] = 0\n",
    "\n",
    "telecom_users['PaperlessBilling'] = PaperlessBilling\n",
    "telecom_users['PaperlessBilling']"
   ]
  },
  {
   "cell_type": "code",
   "execution_count": 21,
   "metadata": {},
   "outputs": [
    {
     "data": {
      "text/plain": [
       "0       0\n",
       "1       0\n",
       "2       1\n",
       "3       0\n",
       "4       0\n",
       "       ..\n",
       "5981    1\n",
       "5982    0\n",
       "5983    0\n",
       "5984    1\n",
       "5985    0\n",
       "Name: Churn, Length: 5986, dtype: object"
      ]
     },
     "execution_count": 21,
     "metadata": {},
     "output_type": "execute_result"
    }
   ],
   "source": [
    "Churn = telecom_users['Churn'].values\n",
    "for i in range(0, Churn.size):\n",
    "    if(Churn[i] == 'Yes'):\n",
    "        Churn[i] = 1\n",
    "    else:\n",
    "        Churn[i] = 0\n",
    "\n",
    "telecom_users['Churn'] = Churn\n",
    "telecom_users['Churn']"
   ]
  },
  {
   "cell_type": "code",
   "execution_count": 22,
   "metadata": {},
   "outputs": [
    {
     "data": {
      "text/plain": [
       "0       3\n",
       "1       1\n",
       "2       1\n",
       "3       2\n",
       "4       2\n",
       "       ..\n",
       "5981    1\n",
       "5982    2\n",
       "5983    3\n",
       "5984    1\n",
       "5985    3\n",
       "Name: InternetService, Length: 5986, dtype: object"
      ]
     },
     "execution_count": 22,
     "metadata": {},
     "output_type": "execute_result"
    }
   ],
   "source": [
    "InternetService = telecom_users['InternetService'].values\n",
    "for i in range(0, InternetService.size):\n",
    "    if(InternetService[i] == 'Fiber optic'):\n",
    "        InternetService[i] = 1\n",
    "    elif(InternetService[i] == 'DSL'):\n",
    "        InternetService[i] = 2\n",
    "    else:\n",
    "        InternetService[i] = 3\n",
    "\n",
    "telecom_users['InternetService'] = InternetService\n",
    "telecom_users['InternetService']"
   ]
  },
  {
   "cell_type": "code",
   "execution_count": 23,
   "metadata": {
    "scrolled": true
   },
   "outputs": [
    {
     "data": {
      "text/plain": [
       "0       3\n",
       "1       1\n",
       "2       2\n",
       "3       2\n",
       "4       1\n",
       "       ..\n",
       "5981    2\n",
       "5982    1\n",
       "5983    3\n",
       "5984    1\n",
       "5985    3\n",
       "Name: DeviceProtection, Length: 5986, dtype: object"
      ]
     },
     "execution_count": 23,
     "metadata": {},
     "output_type": "execute_result"
    }
   ],
   "source": [
    "DeviceProtection = telecom_users['DeviceProtection'].values\n",
    "for i in range(0, DeviceProtection.size):\n",
    "    if(DeviceProtection[i] == 'Yes'):\n",
    "        DeviceProtection[i] = 1\n",
    "    elif(DeviceProtection[i] == 'No'):\n",
    "        DeviceProtection[i] = 2\n",
    "    else:\n",
    "        DeviceProtection[i] = 3\n",
    "\n",
    "telecom_users['DeviceProtection'] = DeviceProtection\n",
    "telecom_users['DeviceProtection']"
   ]
  },
  {
   "cell_type": "code",
   "execution_count": 24,
   "metadata": {},
   "outputs": [
    {
     "data": {
      "text/plain": [
       "0       3\n",
       "1       2\n",
       "2       2\n",
       "3       2\n",
       "4       1\n",
       "       ..\n",
       "5981    1\n",
       "5982    1\n",
       "5983    3\n",
       "5984    2\n",
       "5985    3\n",
       "Name: OnlineSecurity, Length: 5986, dtype: object"
      ]
     },
     "execution_count": 24,
     "metadata": {},
     "output_type": "execute_result"
    }
   ],
   "source": [
    "OnlineSecurity = telecom_users['OnlineSecurity'].values\n",
    "for i in range(0, OnlineSecurity.size):\n",
    "    if(OnlineSecurity[i] == 'Yes'):\n",
    "        OnlineSecurity[i] = 1\n",
    "    elif(OnlineSecurity[i] == 'No'):\n",
    "        OnlineSecurity[i] = 2\n",
    "    else:\n",
    "        OnlineSecurity[i] = 3\n",
    "\n",
    "telecom_users['OnlineSecurity'] = OnlineSecurity\n",
    "telecom_users['OnlineSecurity']"
   ]
  },
  {
   "cell_type": "code",
   "execution_count": 25,
   "metadata": {},
   "outputs": [
    {
     "data": {
      "text/plain": [
       "0       3\n",
       "1       1\n",
       "2       2\n",
       "3       2\n",
       "4       2\n",
       "       ..\n",
       "5981    2\n",
       "5982    1\n",
       "5983    3\n",
       "5984    2\n",
       "5985    3\n",
       "Name: OnlineBackup, Length: 5986, dtype: object"
      ]
     },
     "execution_count": 25,
     "metadata": {},
     "output_type": "execute_result"
    }
   ],
   "source": [
    "OnlineBackup = telecom_users['OnlineBackup'].values\n",
    "for i in range(0, OnlineBackup.size):\n",
    "    if(OnlineBackup[i] == 'Yes'):\n",
    "        OnlineBackup[i] = 1\n",
    "    elif(OnlineBackup[i] == 'No'):\n",
    "        OnlineBackup[i] = 2\n",
    "    else:\n",
    "        OnlineBackup[i] = 3\n",
    "\n",
    "telecom_users['OnlineBackup'] = OnlineBackup\n",
    "telecom_users['OnlineBackup']"
   ]
  },
  {
   "cell_type": "code",
   "execution_count": 26,
   "metadata": {},
   "outputs": [
    {
     "data": {
      "text/plain": [
       "0       3\n",
       "1       2\n",
       "2       2\n",
       "3       2\n",
       "4       2\n",
       "       ..\n",
       "5981    2\n",
       "5982    1\n",
       "5983    3\n",
       "5984    2\n",
       "5985    3\n",
       "Name: TechSupport, Length: 5986, dtype: object"
      ]
     },
     "execution_count": 26,
     "metadata": {},
     "output_type": "execute_result"
    }
   ],
   "source": [
    "TechSupport = telecom_users['TechSupport'].values\n",
    "for i in range(0, TechSupport.size):\n",
    "    if(TechSupport[i] == 'Yes'):\n",
    "        TechSupport[i] = 1\n",
    "    elif(TechSupport[i] == 'No'):\n",
    "        TechSupport[i] = 2\n",
    "    else:\n",
    "        TechSupport[i] = 3\n",
    "\n",
    "telecom_users['TechSupport'] = TechSupport\n",
    "telecom_users['TechSupport']"
   ]
  },
  {
   "cell_type": "code",
   "execution_count": 27,
   "metadata": {},
   "outputs": [
    {
     "data": {
      "text/plain": [
       "0       3\n",
       "1       1\n",
       "2       2\n",
       "3       2\n",
       "4       2\n",
       "       ..\n",
       "5981    1\n",
       "5982    1\n",
       "5983    3\n",
       "5984    1\n",
       "5985    3\n",
       "Name: StreamingTV, Length: 5986, dtype: object"
      ]
     },
     "execution_count": 27,
     "metadata": {},
     "output_type": "execute_result"
    }
   ],
   "source": [
    "StreamingTV = telecom_users['StreamingTV'].values\n",
    "for i in range(0, StreamingTV.size):\n",
    "    if(StreamingTV[i] == 'Yes'):\n",
    "        StreamingTV[i] = 1\n",
    "    elif(StreamingTV[i] == 'No'):\n",
    "        StreamingTV[i] = 2\n",
    "    else:\n",
    "        StreamingTV[i] = 3\n",
    "\n",
    "telecom_users['StreamingTV'] = StreamingTV\n",
    "telecom_users['StreamingTV']"
   ]
  },
  {
   "cell_type": "code",
   "execution_count": 28,
   "metadata": {},
   "outputs": [
    {
     "data": {
      "text/plain": [
       "0       3\n",
       "1       2\n",
       "2       2\n",
       "3       1\n",
       "4       2\n",
       "       ..\n",
       "5981    1\n",
       "5982    1\n",
       "5983    3\n",
       "5984    1\n",
       "5985    3\n",
       "Name: StreamingMovies, Length: 5986, dtype: object"
      ]
     },
     "execution_count": 28,
     "metadata": {},
     "output_type": "execute_result"
    }
   ],
   "source": [
    "StreamingMovies = telecom_users['StreamingMovies'].values\n",
    "for i in range(0, StreamingMovies.size):\n",
    "    if(StreamingMovies[i] == 'Yes'):\n",
    "        StreamingMovies[i] = 1\n",
    "    elif(StreamingMovies[i] == 'No'):\n",
    "        StreamingMovies[i] = 2\n",
    "    else:\n",
    "        StreamingMovies[i] = 3\n",
    "\n",
    "telecom_users['StreamingMovies'] = StreamingMovies\n",
    "telecom_users['StreamingMovies']"
   ]
  },
  {
   "cell_type": "code",
   "execution_count": 29,
   "metadata": {},
   "outputs": [
    {
     "data": {
      "text/plain": [
       "0       2\n",
       "1       3\n",
       "2       3\n",
       "3       3\n",
       "4       3\n",
       "       ..\n",
       "5981    3\n",
       "5982    2\n",
       "5983    3\n",
       "5984    3\n",
       "5985    1\n",
       "Name: Contract, Length: 5986, dtype: object"
      ]
     },
     "execution_count": 29,
     "metadata": {},
     "output_type": "execute_result"
    }
   ],
   "source": [
    "Contract = telecom_users['Contract'].values\n",
    "for i in range(0, Contract.size):\n",
    "    if(Contract[i] == 'One year'):\n",
    "        Contract[i] = 1\n",
    "    elif(Contract[i] == 'Two year'):\n",
    "        Contract[i] = 2\n",
    "    else:\n",
    "        Contract[i] = 3\n",
    "\n",
    "telecom_users['Contract'] = Contract\n",
    "telecom_users['Contract']"
   ]
  },
  {
   "cell_type": "code",
   "execution_count": 30,
   "metadata": {},
   "outputs": [
    {
     "data": {
      "text/plain": [
       "0       4\n",
       "1       4\n",
       "2       4\n",
       "3       1\n",
       "4       1\n",
       "       ..\n",
       "5981    1\n",
       "5982    4\n",
       "5983    1\n",
       "5984    1\n",
       "5985    4\n",
       "Name: PaymentMethod, Length: 5986, dtype: object"
      ]
     },
     "execution_count": 30,
     "metadata": {},
     "output_type": "execute_result"
    }
   ],
   "source": [
    "PaymentMethod = telecom_users['PaymentMethod'].values\n",
    "for i in range(0, PaymentMethod.size):\n",
    "    if(PaymentMethod[i] == 'Electronic check'):\n",
    "        PaymentMethod[i] = 1\n",
    "    elif(PaymentMethod[i] == 'Mailed check'):\n",
    "        PaymentMethod[i] = 2\n",
    "    elif(PaymentMethod[i] == 'Bank transfer(automatic)'):\n",
    "        PaymentMethod[i] = 3\n",
    "    else:\n",
    "        PaymentMethod[i] = 4\n",
    "\n",
    "telecom_users['PaymentMethod'] = PaymentMethod\n",
    "telecom_users['PaymentMethod']"
   ]
  },
  {
   "cell_type": "code",
   "execution_count": 31,
   "metadata": {},
   "outputs": [
    {
     "data": {
      "text/html": [
       "<div>\n",
       "<style scoped>\n",
       "    .dataframe tbody tr th:only-of-type {\n",
       "        vertical-align: middle;\n",
       "    }\n",
       "\n",
       "    .dataframe tbody tr th {\n",
       "        vertical-align: top;\n",
       "    }\n",
       "\n",
       "    .dataframe thead th {\n",
       "        text-align: right;\n",
       "    }\n",
       "</style>\n",
       "<table border=\"1\" class=\"dataframe\">\n",
       "  <thead>\n",
       "    <tr style=\"text-align: right;\">\n",
       "      <th></th>\n",
       "      <th>Unnamed: 0</th>\n",
       "      <th>customerID</th>\n",
       "      <th>gender</th>\n",
       "      <th>SeniorCitizen</th>\n",
       "      <th>Partner</th>\n",
       "      <th>Dependents</th>\n",
       "      <th>tenure</th>\n",
       "      <th>PhoneService</th>\n",
       "      <th>MultipleLines</th>\n",
       "      <th>InternetService</th>\n",
       "      <th>...</th>\n",
       "      <th>DeviceProtection</th>\n",
       "      <th>TechSupport</th>\n",
       "      <th>StreamingTV</th>\n",
       "      <th>StreamingMovies</th>\n",
       "      <th>Contract</th>\n",
       "      <th>PaperlessBilling</th>\n",
       "      <th>PaymentMethod</th>\n",
       "      <th>MonthlyCharges</th>\n",
       "      <th>TotalCharges</th>\n",
       "      <th>Churn</th>\n",
       "    </tr>\n",
       "  </thead>\n",
       "  <tbody>\n",
       "    <tr>\n",
       "      <th>0</th>\n",
       "      <td>1869.0</td>\n",
       "      <td>7010-BRBUU</td>\n",
       "      <td>1</td>\n",
       "      <td>0.0</td>\n",
       "      <td>1</td>\n",
       "      <td>1</td>\n",
       "      <td>1.000000</td>\n",
       "      <td>1</td>\n",
       "      <td>1</td>\n",
       "      <td>3</td>\n",
       "      <td>...</td>\n",
       "      <td>3</td>\n",
       "      <td>3</td>\n",
       "      <td>3</td>\n",
       "      <td>3</td>\n",
       "      <td>2</td>\n",
       "      <td>0</td>\n",
       "      <td>4</td>\n",
       "      <td>0.058209</td>\n",
       "      <td>0.197998</td>\n",
       "      <td>0</td>\n",
       "    </tr>\n",
       "    <tr>\n",
       "      <th>1</th>\n",
       "      <td>4528.0</td>\n",
       "      <td>9688-YGXVR</td>\n",
       "      <td>0</td>\n",
       "      <td>0.0</td>\n",
       "      <td>0</td>\n",
       "      <td>0</td>\n",
       "      <td>0.611111</td>\n",
       "      <td>1</td>\n",
       "      <td>0</td>\n",
       "      <td>1</td>\n",
       "      <td>...</td>\n",
       "      <td>1</td>\n",
       "      <td>2</td>\n",
       "      <td>1</td>\n",
       "      <td>2</td>\n",
       "      <td>3</td>\n",
       "      <td>1</td>\n",
       "      <td>4</td>\n",
       "      <td>0.695522</td>\n",
       "      <td>0.456312</td>\n",
       "      <td>0</td>\n",
       "    </tr>\n",
       "    <tr>\n",
       "      <th>2</th>\n",
       "      <td>6344.0</td>\n",
       "      <td>9286-DOJGF</td>\n",
       "      <td>0</td>\n",
       "      <td>1.0</td>\n",
       "      <td>1</td>\n",
       "      <td>0</td>\n",
       "      <td>0.527778</td>\n",
       "      <td>1</td>\n",
       "      <td>1</td>\n",
       "      <td>1</td>\n",
       "      <td>...</td>\n",
       "      <td>2</td>\n",
       "      <td>2</td>\n",
       "      <td>2</td>\n",
       "      <td>2</td>\n",
       "      <td>3</td>\n",
       "      <td>1</td>\n",
       "      <td>4</td>\n",
       "      <td>0.564179</td>\n",
       "      <td>0.328993</td>\n",
       "      <td>1</td>\n",
       "    </tr>\n",
       "    <tr>\n",
       "      <th>3</th>\n",
       "      <td>6739.0</td>\n",
       "      <td>6994-KERXL</td>\n",
       "      <td>1</td>\n",
       "      <td>0.0</td>\n",
       "      <td>0</td>\n",
       "      <td>0</td>\n",
       "      <td>0.055556</td>\n",
       "      <td>1</td>\n",
       "      <td>0</td>\n",
       "      <td>2</td>\n",
       "      <td>...</td>\n",
       "      <td>2</td>\n",
       "      <td>2</td>\n",
       "      <td>2</td>\n",
       "      <td>1</td>\n",
       "      <td>3</td>\n",
       "      <td>1</td>\n",
       "      <td>1</td>\n",
       "      <td>0.374627</td>\n",
       "      <td>0.025352</td>\n",
       "      <td>0</td>\n",
       "    </tr>\n",
       "    <tr>\n",
       "      <th>4</th>\n",
       "      <td>432.0</td>\n",
       "      <td>2181-UAESM</td>\n",
       "      <td>1</td>\n",
       "      <td>0.0</td>\n",
       "      <td>0</td>\n",
       "      <td>0</td>\n",
       "      <td>0.027778</td>\n",
       "      <td>1</td>\n",
       "      <td>0</td>\n",
       "      <td>2</td>\n",
       "      <td>...</td>\n",
       "      <td>1</td>\n",
       "      <td>2</td>\n",
       "      <td>2</td>\n",
       "      <td>2</td>\n",
       "      <td>3</td>\n",
       "      <td>0</td>\n",
       "      <td>1</td>\n",
       "      <td>0.350249</td>\n",
       "      <td>0.011620</td>\n",
       "      <td>0</td>\n",
       "    </tr>\n",
       "  </tbody>\n",
       "</table>\n",
       "<p>5 rows × 22 columns</p>\n",
       "</div>"
      ],
      "text/plain": [
       "   Unnamed: 0  customerID gender  SeniorCitizen Partner Dependents    tenure  \\\n",
       "0      1869.0  7010-BRBUU      1            0.0       1          1  1.000000   \n",
       "1      4528.0  9688-YGXVR      0            0.0       0          0  0.611111   \n",
       "2      6344.0  9286-DOJGF      0            1.0       1          0  0.527778   \n",
       "3      6739.0  6994-KERXL      1            0.0       0          0  0.055556   \n",
       "4       432.0  2181-UAESM      1            0.0       0          0  0.027778   \n",
       "\n",
       "  PhoneService MultipleLines InternetService  ... DeviceProtection  \\\n",
       "0            1             1               3  ...                3   \n",
       "1            1             0               1  ...                1   \n",
       "2            1             1               1  ...                2   \n",
       "3            1             0               2  ...                2   \n",
       "4            1             0               2  ...                1   \n",
       "\n",
       "  TechSupport StreamingTV StreamingMovies Contract PaperlessBilling  \\\n",
       "0           3           3               3        2                0   \n",
       "1           2           1               2        3                1   \n",
       "2           2           2               2        3                1   \n",
       "3           2           2               1        3                1   \n",
       "4           2           2               2        3                0   \n",
       "\n",
       "  PaymentMethod MonthlyCharges TotalCharges  Churn  \n",
       "0             4       0.058209     0.197998      0  \n",
       "1             4       0.695522     0.456312      0  \n",
       "2             4       0.564179     0.328993      1  \n",
       "3             1       0.374627     0.025352      0  \n",
       "4             1       0.350249     0.011620      0  \n",
       "\n",
       "[5 rows x 22 columns]"
      ]
     },
     "execution_count": 31,
     "metadata": {},
     "output_type": "execute_result"
    }
   ],
   "source": [
    "telecom_users.head()"
   ]
  },
  {
   "cell_type": "code",
   "execution_count": 32,
   "metadata": {},
   "outputs": [
    {
     "data": {
      "text/plain": [
       "array([[1, 0.0, 1, ..., 4, 0.05820895522388059, 0.1979979229171475],\n",
       "       [0, 0.0, 0, ..., 4, 0.6955223880597016, 0.4563120240018463],\n",
       "       [0, 1.0, 1, ..., 4, 0.564179104477612, 0.3289926148165243],\n",
       "       ...,\n",
       "       [1, 0.0, 1, ..., 1, 0.0288557213930348, 0.03314678052157859],\n",
       "       [1, 1.0, 0, ..., 1, 0.8079601990049752, 0.1363201015462728],\n",
       "       [1, 0.0, 0, ..., 4, 0.015422885572139305, 0.05060004615739673]],\n",
       "      dtype=object)"
      ]
     },
     "execution_count": 32,
     "metadata": {},
     "output_type": "execute_result"
    }
   ],
   "source": [
    "all_features = telecom_users[['gender', 'SeniorCitizen', 'Partner', 'Dependents', 'tenure', 'PhoneService', 'MultipleLines', 'InternetService', 'OnlineSecurity',\n",
    "                 'OnlineBackup', 'DeviceProtection', 'TechSupport', 'StreamingTV', 'StreamingMovies', 'Contract', 'PaperlessBilling',\n",
    "                 'PaymentMethod', 'MonthlyCharges', 'TotalCharges']].values\n",
    "all_classes = telecom_users['Churn'].values\n",
    "all_features"
   ]
  },
  {
   "cell_type": "code",
   "execution_count": 37,
   "metadata": {},
   "outputs": [],
   "source": [
    "from tensorflow.keras.models import Sequential\n",
    "from tensorflow.keras.layers import Dense, Dropout\n",
    "from sklearn.model_selection import cross_val_score\n",
    "\n",
    "def model_NN():\n",
    "    model = Sequential()\n",
    "    model.add(Dense(25, input_dim = 19, kernel_initializer = 'normal', activation = 'relu'))\n",
    "    model.add(Dense(1, kernel_initializer = 'normal', activation = 'sigmoid'))\n",
    "    model.compile(loss = 'binary_crossentropy', optimizer = 'adam', metrics = ['accuracy'])\n",
    "    return model\n",
    "\n",
    "\n",
    "all_features = np.asarray(all_features).astype(np.float32)\n",
    "all_classes = np.asarray(all_classes).astype(np.float32)"
   ]
  },
  {
   "cell_type": "code",
   "execution_count": 36,
   "metadata": {},
   "outputs": [
    {
     "data": {
      "text/plain": [
       "0.7348895311355591"
      ]
     },
     "execution_count": 36,
     "metadata": {},
     "output_type": "execute_result"
    }
   ],
   "source": [
    "from tensorflow.keras.wrappers.scikit_learn import KerasClassifier\n",
    "from sklearn.model_selection import cross_val_score\n",
    "\n",
    "estimator = KerasClassifier(build_fn = model_NN, epochs = 75, verbose = 0)\n",
    "scores = cross_val_score(estimator, all_features, all_classes, cv = 10)\n",
    "scores.mean()"
   ]
  }
 ],
 "metadata": {
  "kernelspec": {
   "display_name": "Python 3",
   "language": "python",
   "name": "python3"
  },
  "language_info": {
   "codemirror_mode": {
    "name": "ipython",
    "version": 3
   },
   "file_extension": ".py",
   "mimetype": "text/x-python",
   "name": "python",
   "nbconvert_exporter": "python",
   "pygments_lexer": "ipython3",
   "version": "3.8.5"
  }
 },
 "nbformat": 4,
 "nbformat_minor": 4
}
